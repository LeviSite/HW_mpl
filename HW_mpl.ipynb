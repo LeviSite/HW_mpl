{
 "cells": [
  {
   "cell_type": "code",
   "execution_count": 58,
   "metadata": {},
   "outputs": [],
   "source": [
    "import matplotlib.pyplot as plt\n",
    "import numpy as np\n",
    "\n",
    "#Создаем данные с установленным средним значением, \n",
    "#разбросом значений от него и кол-вом значений\n",
    "a = np.random.normal (loc=0.968, scale=0.001, size=99)\n",
    "b = np.random.normal (loc=0.968, scale=0.0018, size=99)\n",
    "\n",
    "#Устанавливаем стиль графика\n",
    "plt.style.use('seaborn-whitegrid') \n",
    "\n",
    "#Рисуем линии с установленным цветом и толщиной линии\n",
    "plt.plot (b, \n",
    "          color='#FFC373', \n",
    "          linewidth=5) \n",
    "plt.plot (a, \n",
    "          color='#FF6400', \n",
    "          linewidth=5)\n",
    "\n",
    "#Подписываем ось абсцисс\n",
    "plt.xlabel(\"2018\") \n",
    "\n",
    "#Пишем название графика со смещением влево \n",
    "#и отстутом от самого графика наверх\n",
    "plt.title(\"val_roc-aug\", \n",
    "          loc='left', \n",
    "          pad=40)\n",
    "\n",
    "#Отмечаем, на каких значениях по оси х находятся месяца\n",
    "#Пустое значение обозначает границу между месяцами\n",
    "plt.xticks ([17, 34, 66], \n",
    "            ['July','' , 'August'])\n",
    "\n",
    "#Отмечаем нужные нам значения по оси ординат\n",
    "plt.yticks ([0.964, 0.966, 0.968, 0.970, 0.972])\n",
    "\n",
    "#Устанавливаем размер графика по каждой из осей\n",
    "plt.figure(figsize=(0.01, 99))\n",
    "\n",
    "#Рисуем график\n",
    "plt.show()"
   ]
  }
 ],
 "metadata": {
  "kernelspec": {
   "display_name": "Python 3",
   "language": "python",
   "name": "python3"
  },
  "language_info": {
   "codemirror_mode": {
    "name": "ipython",
    "version": 3
   },
   "file_extension": ".py",
   "mimetype": "text/x-python",
   "name": "python",
   "nbconvert_exporter": "python",
   "pygments_lexer": "ipython3",
   "version": "3.7.4"
  }
 },
 "nbformat": 4,
 "nbformat_minor": 2
}
